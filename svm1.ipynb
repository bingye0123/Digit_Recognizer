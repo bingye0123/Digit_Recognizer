{
 "cells": [
  {
   "cell_type": "code",
   "execution_count": 3,
   "metadata": {
    "collapsed": false
   },
   "outputs": [
    {
     "name": "stdout",
     "output_type": "stream",
     "text": [
      "Read training data...\n",
      "Loaded 42000\n",
      "Reduction...\n",
      "Train SVM...\n",
      "Read testing data...\n",
      "Loaded 28000\n",
      "Predicting...\n",
      "Saving...\n"
     ]
    }
   ],
   "source": [
    "import numpy\n",
    "from sklearn.decomposition import PCA\n",
    "from sklearn.svm import SVC\n",
    "\n",
    "COMPONENT_NUM = 35\n",
    "\n",
    "print('Read training data...')\n",
    "with open('train.csv', 'r') as reader:\n",
    "    reader.readline()\n",
    "    train_label = []\n",
    "    train_data = []\n",
    "    for line in reader.readlines():\n",
    "        data = list(map(int, line.rstrip().split(',')))\n",
    "        train_label.append(data[0])\n",
    "        train_data.append(data[1:])\n",
    "print('Loaded ' + str(len(train_label)))\n",
    "\n",
    "print('Reduction...')\n",
    "train_label = numpy.array(train_label)\n",
    "train_data = numpy.array(train_data)\n",
    "pca = PCA(n_components=COMPONENT_NUM, whiten=True)\n",
    "pca.fit(train_data)\n",
    "train_data = pca.transform(train_data)\n",
    "\n",
    "print('Train SVM...')\n",
    "svc = SVC()\n",
    "svc.fit(train_data, train_label)\n",
    "\n",
    "print('Read testing data...')\n",
    "with open('test.csv', 'r') as reader:\n",
    "    reader.readline()\n",
    "    test_data = []\n",
    "    for line in reader.readlines():\n",
    "        pixels = list(map(int, line.rstrip().split(',')))\n",
    "        test_data.append(pixels)\n",
    "print('Loaded ' + str(len(test_data)))\n",
    "\n",
    "print('Predicting...')\n",
    "test_data = numpy.array(test_data)\n",
    "test_data = pca.transform(test_data)\n",
    "predict = svc.predict(test_data)\n",
    "\n",
    "print('Saving...')\n",
    "with open('predict.csv', 'w') as writer:\n",
    "    writer.write('\"ImageId\",\"Label\"\\n')\n",
    "    count = 0\n",
    "    for p in predict:\n",
    "        count += 1\n",
    "        writer.write(str(count) + ',\"' + str(p) + '\"\\n')"
   ]
  }
 ],
 "metadata": {
  "kernelspec": {
   "display_name": "Python 2",
   "language": "python",
   "name": "python2"
  },
  "language_info": {
   "codemirror_mode": {
    "name": "ipython",
    "version": 2
   },
   "file_extension": ".py",
   "mimetype": "text/x-python",
   "name": "python",
   "nbconvert_exporter": "python",
   "pygments_lexer": "ipython2",
   "version": "2.7.10"
  }
 },
 "nbformat": 4,
 "nbformat_minor": 0
}
