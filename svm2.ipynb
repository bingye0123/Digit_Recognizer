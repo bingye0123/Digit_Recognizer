{
 "cells": [
  {
   "cell_type": "code",
   "execution_count": 1,
   "metadata": {
    "collapsed": true
   },
   "outputs": [],
   "source": [
    "import pandas as pd\n",
    "from sklearn.decomposition import PCA\n",
    "from sklearn import svm\n",
    "\n",
    "# The competition datafiles are in the directory ../input\n",
    "# Read competition data files:\n",
    "train = pd.read_csv(\"train.csv\")\n",
    "test  = pd.read_csv(\"test.csv\")\n",
    "\n",
    "\n",
    "train_x = train.values[:,1:]\n",
    "train_y = train.ix[:,0]\n",
    "test_x = test.values\n",
    "\n",
    "pca = PCA(n_components=0.8,whiten=True)\n",
    "train_x = pca.fit_transform(train_x)\n",
    "test_x = pca.transform(test_x)\n",
    "\n",
    "\n",
    "svc = svm.SVC(kernel='rbf',C=10)\n",
    "svc.fit(train_x, train_y)\n",
    "\n",
    "test_y = svc.predict(test_x)\n",
    "pd.DataFrame({\"ImageId\": range(1,len(test_y)+1), \"Label\": test_y}).to_csv('svm2.csv', index=False, header=True)\n",
    "                "
   ]
  },
  {
   "cell_type": "code",
   "execution_count": 3,
   "metadata": {
    "collapsed": false
   },
   "outputs": [
    {
     "data": {
      "text/plain": [
       "(42000, 785)"
      ]
     },
     "execution_count": 3,
     "metadata": {},
     "output_type": "execute_result"
    }
   ],
   "source": [
    "train.shape"
   ]
  },
  {
   "cell_type": "code",
   "execution_count": null,
   "metadata": {
    "collapsed": true
   },
   "outputs": [],
   "source": []
  }
 ],
 "metadata": {
  "kernelspec": {
   "display_name": "Python 2",
   "language": "python",
   "name": "python2"
  },
  "language_info": {
   "codemirror_mode": {
    "name": "ipython",
    "version": 2
   },
   "file_extension": ".py",
   "mimetype": "text/x-python",
   "name": "python",
   "nbconvert_exporter": "python",
   "pygments_lexer": "ipython2",
   "version": "2.7.10"
  }
 },
 "nbformat": 4,
 "nbformat_minor": 0
}
